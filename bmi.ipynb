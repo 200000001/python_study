# 1.BMI 계산
# 공식: 몸무게 / (신장*신장) ,신장은 m 단위로
cm_height = int(input("키를 입력하세요.  "))
m_height = cm_height / 100 

weight = int(input("몸무게를 입력하세요.  "))

BMI = weight / (m_height ** 2)

print("당신의 BMI는 %.2f 입니다." % (BMI))
